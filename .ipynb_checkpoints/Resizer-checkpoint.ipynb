{
 "cells": [
  {
   "cell_type": "code",
   "execution_count": 1,
   "metadata": {
    "id": "djznDhYMP9bC",
    "tags": []
   },
   "outputs": [],
   "source": [
    "import os\n",
    "import pandas as pd\n",
    "from PIL import Image\n",
    "from IPython.display import display\n",
    "import math\n",
    "import requests"
   ]
  },
  {
   "cell_type": "code",
   "execution_count": 2,
   "metadata": {
    "id": "gDEKKxUaQmGw",
    "tags": []
   },
   "outputs": [
    {
     "ename": "NameError",
     "evalue": "name 'products_data' is not defined",
     "output_type": "error",
     "traceback": [
      "\u001b[1;31m---------------------------------------------------------------------------\u001b[0m",
      "\u001b[1;31mNameError\u001b[0m                                 Traceback (most recent call last)",
      "Cell \u001b[1;32mIn[2], line 1\u001b[0m\n\u001b[1;32m----> 1\u001b[0m products_data\u001b[38;5;241m=\u001b[39mproducts_data\u001b[38;5;241m.\u001b[39msort_values(by\u001b[38;5;241m=\u001b[39m\u001b[38;5;124m'\u001b[39m\u001b[38;5;124mVariant SKU\u001b[39m\u001b[38;5;124m'\u001b[39m, ascending\u001b[38;5;241m=\u001b[39m\u001b[38;5;28;01mTrue\u001b[39;00m)\n\u001b[0;32m      2\u001b[0m products_data\u001b[38;5;241m=\u001b[39mproducts_data\u001b[38;5;241m.\u001b[39mreset_index(drop\u001b[38;5;241m=\u001b[39m\u001b[38;5;28;01mTrue\u001b[39;00m)\n\u001b[0;32m      3\u001b[0m skuid_nan\u001b[38;5;241m=\u001b[39m[i \u001b[38;5;28;01mfor\u001b[39;00m i,value \u001b[38;5;129;01min\u001b[39;00m \u001b[38;5;28menumerate\u001b[39m(products_data[\u001b[38;5;124m'\u001b[39m\u001b[38;5;124mVariant SKU\u001b[39m\u001b[38;5;124m'\u001b[39m]) \u001b[38;5;28;01mif\u001b[39;00m \u001b[38;5;28misinstance\u001b[39m(value,\u001b[38;5;28mfloat\u001b[39m) \u001b[38;5;129;01mand\u001b[39;00m math\u001b[38;5;241m.\u001b[39misnan(value)]\n",
      "\u001b[1;31mNameError\u001b[0m: name 'products_data' is not defined"
     ]
    }
   ],
   "source": [
    "\n",
    "products_data=products_data.sort_values(by='Variant SKU', ascending=True)\n",
    "products_data=products_data.reset_index(drop=True)\n",
    "skuid_nan=[i for i,value in enumerate(products_data['Variant SKU']) if isinstance(value,float) and math.isnan(value)]\n",
    "products_data.drop(skuid_nan,inplace=True)\n",
    "image_src=[value for value in products_data['Image Src']]\n",
    "p_category=[value for value in products_data['Handle']]\n",
    "skuid=[value for value in products_data['Variant SKU']]"
   ]
  },
  {
   "cell_type": "code",
   "execution_count": 3,
   "metadata": {
    "id": "enLfuLa0SJ78",
    "tags": []
   },
   "outputs": [],
   "source": [
    "def download(image_path,image_directory):\n",
    "  for image_number,image_data in zip(skuid,image_path):\n",
    "     image_response=requests.get(image_data,stream=True)\n",
    "     if image_response.status_code==200:\n",
    "        file_name=os.path.join(image_directory,f'{image_number}.jpg')\n",
    "        with open(file_name,'wb') as file:\n",
    "          for image_data_chunk in image_response.iter_content(1024):\n",
    "             file.write(image_data_chunk)\n",
    "        "
   ]
  },
  {
   "cell_type": "code",
   "execution_count": 4,
   "metadata": {
    "id": "mhnCtE6fU5pY",
    "tags": []
   },
   "outputs": [
    {
     "ename": "NameError",
     "evalue": "name 'image_di' is not defined",
     "output_type": "error",
     "traceback": [
      "\u001b[1;31m---------------------------------------------------------------------------\u001b[0m",
      "\u001b[1;31mNameError\u001b[0m                                 Traceback (most recent call last)",
      "Cell \u001b[1;32mIn[4], line 4\u001b[0m\n\u001b[0;32m      2\u001b[0m image_path\u001b[38;5;241m=\u001b[39m[]\n\u001b[0;32m      3\u001b[0m folder_name\u001b[38;5;241m=\u001b[39m\u001b[38;5;124mf\u001b[39m\u001b[38;5;124m\"\u001b[39m\u001b[38;5;124mImage_directory\u001b[39m\u001b[38;5;124m\"\u001b[39m\n\u001b[1;32m----> 4\u001b[0m image_directory\u001b[38;5;241m=\u001b[39mos\u001b[38;5;241m.\u001b[39mpath\u001b[38;5;241m.\u001b[39mjoin(image_di,folder_name)\n\u001b[0;32m      5\u001b[0m \u001b[38;5;28;01mif\u001b[39;00m \u001b[38;5;129;01mnot\u001b[39;00m os\u001b[38;5;241m.\u001b[39mpath\u001b[38;5;241m.\u001b[39mexists(image_directory):\n\u001b[0;32m      6\u001b[0m     os\u001b[38;5;241m.\u001b[39mmakedirs(image_directory)\n",
      "\u001b[1;31mNameError\u001b[0m: name 'image_di' is not defined"
     ]
    }
   ],
   "source": [
    "img_id=0\n",
    "image_path=[]\n",
    "folder_name=f\"Image_directory\"\n",
    "image_directory=os.path.join(image_di,folder_name)\n",
    "if not os.path.exists(image_directory):\n",
    "    os.makedirs(image_directory)\n",
    "else:\n",
    "    img_id+=1\n",
    "    temp=img_id\n",
    "    while os.path.exists(f'{image_directory}_{temp}'):\n",
    "        temp+=1       \n",
    "    img_id=temp\n",
    "    image_directory = f'{image_directory}_{img_id}'\n",
    "    os.makedirs(image_directory)\n",
    "    \n",
    "for src in (image_src):\n",
    "    image_path.append(src) \n",
    "download(image_path,image_directory)"
   ]
  },
  {
   "cell_type": "code",
   "execution_count": 8,
   "metadata": {
    "id": "bQd-hsW4cs1P",
    "tags": []
   },
   "outputs": [],
   "source": [
    "def resize_func(image_list,defined_height,defined_width):\n",
    "  with Image.open(image_list) as image:\n",
    "    image_ratio=image.height/image.width\n",
    "    new_width=int(defined_height/image_ratio)\n",
    "    defined_size=image.resize((defined_height,new_width))\n",
    "  return defined_size"
   ]
  },
  {
   "cell_type": "code",
   "execution_count": 6,
   "metadata": {
    "id": "3Y_pyOIMiRrs",
    "tags": []
   },
   "outputs": [
    {
     "ename": "NameError",
     "evalue": "name 'image_directory' is not defined",
     "output_type": "error",
     "traceback": [
      "\u001b[1;31m---------------------------------------------------------------------------\u001b[0m",
      "\u001b[1;31mNameError\u001b[0m                                 Traceback (most recent call last)",
      "Cell \u001b[1;32mIn[6], line 3\u001b[0m\n\u001b[0;32m      1\u001b[0m resized_images\u001b[38;5;241m=\u001b[39m[]\n\u001b[0;32m      2\u001b[0m resized_images_shopify\u001b[38;5;241m=\u001b[39m[]\n\u001b[1;32m----> 3\u001b[0m img_list\u001b[38;5;241m=\u001b[39mos\u001b[38;5;241m.\u001b[39mlistdir(image_directory)\n\u001b[0;32m      4\u001b[0m \u001b[38;5;28;01mfor\u001b[39;00m resize \u001b[38;5;129;01min\u001b[39;00m img_list:\n\u001b[0;32m      5\u001b[0m     resize_path\u001b[38;5;241m=\u001b[39mos\u001b[38;5;241m.\u001b[39mpath\u001b[38;5;241m.\u001b[39mjoin(image_directory,resize)\n",
      "\u001b[1;31mNameError\u001b[0m: name 'image_directory' is not defined"
     ]
    }
   ],
   "source": [
    "resized_images=[]\n",
    "resized_images_shopify=[]\n",
    "img_list=os.listdir(image_directory)\n",
    "for resize in img_list:\n",
    "    resize_path=os.path.join(image_directory,resize)\n",
    "    resize_function=resize_func(resize_path,1316,1468)\n",
    "    resized_images.append(resize_function)"
   ]
  },
  {
   "cell_type": "code",
   "execution_count": 1,
   "metadata": {
    "id": "gj7643t0n-jx",
    "tags": []
   },
   "outputs": [
    {
     "ename": "NameError",
     "evalue": "name 'os' is not defined",
     "output_type": "error",
     "traceback": [
      "\u001b[1;31m---------------------------------------------------------------------------\u001b[0m",
      "\u001b[1;31mNameError\u001b[0m                                 Traceback (most recent call last)",
      "Cell \u001b[1;32mIn[1], line 5\u001b[0m\n\u001b[0;32m      3\u001b[0m tcl_id\u001b[38;5;241m=\u001b[39m\u001b[38;5;241m0\u001b[39m\n\u001b[0;32m      4\u001b[0m folder_name\u001b[38;5;241m=\u001b[39m\u001b[38;5;124mf\u001b[39m\u001b[38;5;124m'\u001b[39m\u001b[38;5;124mTCL_directory\u001b[39m\u001b[38;5;124m'\u001b[39m\n\u001b[1;32m----> 5\u001b[0m tcl_image_directory\u001b[38;5;241m=\u001b[39mos\u001b[38;5;241m.\u001b[39mpath\u001b[38;5;241m.\u001b[39mjoin(path_decided,folder_name)\n\u001b[0;32m      6\u001b[0m \u001b[38;5;28;01mif\u001b[39;00m \u001b[38;5;129;01mnot\u001b[39;00m os\u001b[38;5;241m.\u001b[39mpath\u001b[38;5;241m.\u001b[39mexists(tcl_image_directory):\n\u001b[0;32m      7\u001b[0m     os\u001b[38;5;241m.\u001b[39mmakedirs(tcl_image_directory)\n",
      "\u001b[1;31mNameError\u001b[0m: name 'os' is not defined"
     ]
    }
   ],
   "source": [
    "image_category={}\n",
    "og_tcl_id=0\n",
    "tcl_id=0\n",
    "folder_name=f'TCL_directory'\n",
    "tcl_image_directory=os.path.join(path_decided,folder_name)\n",
    "if not os.path.exists(tcl_image_directory):\n",
    "    os.makedirs(tcl_image_directory)\n",
    "else:\n",
    "    tcl_id+=1\n",
    "    temp=tcl_id\n",
    "    while os.path.exists(f'{tcl_image_directory}_{temp}'):\n",
    "        temp+=1   \n",
    "    tcl_id=temp\n",
    "    tcl_image_directory = f'{tcl_image_directory}_{tcl_id}'\n",
    "    os.makedirs(tcl_image_directory)\n",
    "    \n",
    "for name,i,chunk in zip(skuid,p_category,resized_images):\n",
    "    if i not in image_category:\n",
    "        image_category[i]=1\n",
    "    else:\n",
    "        image_category[i]+=1\n",
    "    folder_name=f\"{i}_{int(image_category[i])//int(number)}\"\n",
    "    sku_directory=os.path.join(tcl_image_directory,folder_name)\n",
    "    if not os.path.exists(sku_directory):\n",
    "        os.makedirs(sku_directory)\n",
    "    file_name=f\"{name}.jpg\"\n",
    "    file_path=os.path.join(sku_directory,file_name)\n",
    "    chunk.save(file_path)\n",
    "    print(f\"{file_name} has been saved in {folder_name}\")"
   ]
  },
  {
   "cell_type": "code",
   "execution_count": null,
   "metadata": {},
   "outputs": [],
   "source": []
  }
 ],
 "metadata": {
  "accelerator": "GPU",
  "colab": {
   "gpuType": "T4",
   "provenance": []
  },
  "kernelspec": {
   "display_name": "Python 3 (ipykernel)",
   "language": "python",
   "name": "python3"
  },
  "language_info": {
   "codemirror_mode": {
    "name": "ipython",
    "version": 3
   },
   "file_extension": ".py",
   "mimetype": "text/x-python",
   "name": "python",
   "nbconvert_exporter": "python",
   "pygments_lexer": "ipython3",
   "version": "3.11.5"
  }
 },
 "nbformat": 4,
 "nbformat_minor": 4
}
