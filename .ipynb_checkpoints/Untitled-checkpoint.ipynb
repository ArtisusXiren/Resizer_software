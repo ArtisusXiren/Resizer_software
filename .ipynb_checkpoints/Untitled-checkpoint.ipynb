{
 "cells": [
  {
   "cell_type": "code",
   "execution_count": 1,
   "id": "521a3625-fb1b-4040-baa3-36422d238ad4",
   "metadata": {
    "tags": []
   },
   "outputs": [],
   "source": [
    "from flask import Flask, render_template, request, send_file,jsonify\n",
    "from flask_ngrok import run_with_ngrok\n",
    "import pandas as pd\n"
   ]
  },
  {
   "cell_type": "code",
   "execution_count": 2,
   "id": "958fe4a7-b6c3-452c-a4fa-417dea08f548",
   "metadata": {
    "tags": []
   },
   "outputs": [],
   "source": [
    "app=Flask(__name__)\n",
    "run_with_ngrok(app)\n",
    "@app.route(\"/\")\n",
    "def webpage():\n",
    "    return render_template(\"Index.html\")\n",
    "@app.route('/upload',methods=['POST'])\n",
    "def upload():\n",
    "    global path_decided\n",
    "    global image_di\n",
    "    global products_data\n",
    "    file= request.files['file']\n",
    "    directory=request.form['directory']\n",
    "    products_data=pd.read_excel(file)\n",
    "    image_di= directory\n",
    "    path_decided= directory\n",
    "    %run Resizer.ipynb\n",
    "    return \"Upload Complete\""
   ]
  },
  {
   "cell_type": "code",
   "execution_count": null,
   "id": "b158f7b6-8b7c-4adc-9423-a2040f305573",
   "metadata": {
    "tags": []
   },
   "outputs": [
    {
     "name": "stdout",
     "output_type": "stream",
     "text": [
      " * Serving Flask app '__main__'\n",
      " * Debug mode: off\n"
     ]
    },
    {
     "name": "stderr",
     "output_type": "stream",
     "text": [
      "WARNING: This is a development server. Do not use it in a production deployment. Use a production WSGI server instead.\n",
      " * Running on http://127.0.0.1:5000\n",
      "Press CTRL+C to quit\n",
      "127.0.0.1 - - [11/Nov/2023 03:44:21] \"GET / HTTP/1.1\" 200 -\n"
     ]
    },
    {
     "name": "stdout",
     "output_type": "stream",
     "text": [
      " * Running on http://e22e-2405-201-600d-1dfa-b150-3fdb-d2a4-a211.ngrok.io\n",
      " * Traffic stats available on http://127.0.0.1:4040\n",
      "AW21PL71008.jpg has been saved in reflex-sunglasses_0\n",
      "AW21PL71008_1.jpg has been saved in reflex-sunglasses_0\n",
      "AW21PL71008_2.jpg has been saved in reflex-sunglasses_0\n",
      "AW21PL71008_3.jpg has been saved in reflex-sunglasses_0\n",
      "AW21PL71008_4.jpg has been saved in reflex-sunglasses_0\n",
      "AW21PL71008_5.jpg has been saved in reflex-sunglasses_0\n",
      "AW21PL71025.jpg has been saved in reflex-sunglasses-mud_0\n",
      "AW21PL71025_1.jpg has been saved in reflex-sunglasses-mud_0\n",
      "AW21PL71025_2.jpg has been saved in reflex-sunglasses-mud_0\n",
      "AW21PL71025_3.jpg has been saved in reflex-sunglasses-mud_0\n",
      "AW21PL71025_4.jpg has been saved in reflex-sunglasses-mud_0\n",
      "SP23PL71001.jpg has been saved in reflex-sunglasses-clear_0\n",
      "SP23PL71001_1.jpg has been saved in reflex-sunglasses-clear_0\n",
      "SP23PL71001_2.jpg has been saved in reflex-sunglasses-clear_0\n",
      "SP23PL71001_3.jpg has been saved in reflex-sunglasses-clear_0\n",
      "SP23PL71001_4.jpg has been saved in reflex-sunglasses-clear_0\n",
      "SP23PL71004.jpg has been saved in akila-x-a-field-out-apollo-sand_0\n",
      "SP23PL71004_1.jpg has been saved in akila-x-a-field-out-apollo-sand_0\n",
      "SP23PL71004_2.jpg has been saved in akila-x-a-field-out-apollo-sand_0\n",
      "SP23PL71004_3.jpg has been saved in akila-x-a-field-out-apollo-sand_0\n",
      "SP23PL71004_4.jpg has been saved in akila-x-a-field-out-apollo-sand_0\n",
      "SP23PL71005.jpg has been saved in akila-x-a-field-out-apollo-black_0\n",
      "SP23PL71005_1.jpg has been saved in akila-x-a-field-out-apollo-black_0\n",
      "SP23PL71005_2.jpg has been saved in akila-x-a-field-out-apollo-black_0\n",
      "SP23PL71005_3.jpg has been saved in akila-x-a-field-out-apollo-black_0\n",
      "SP23PL71005_4.jpg has been saved in akila-x-a-field-out-apollo-black_0\n"
     ]
    },
    {
     "name": "stderr",
     "output_type": "stream",
     "text": [
      "127.0.0.1 - - [11/Nov/2023 03:44:53] \"POST /upload HTTP/1.1\" 200 -\n"
     ]
    },
    {
     "name": "stdout",
     "output_type": "stream",
     "text": [
      "SP23PL71006.jpg has been saved in akila-x-a-field-out-brown_0\n",
      "SP23PL71006_1.jpg has been saved in akila-x-a-field-out-brown_0\n",
      "SP23PL71006_2.jpg has been saved in akila-x-a-field-out-brown_0\n",
      "SP23PL71006_3.jpg has been saved in akila-x-a-field-out-brown_0\n"
     ]
    }
   ],
   "source": [
    " app.run()"
   ]
  },
  {
   "cell_type": "code",
   "execution_count": null,
   "id": "70b40bd0-68a8-4876-a231-60c26876a1e8",
   "metadata": {},
   "outputs": [],
   "source": []
  }
 ],
 "metadata": {
  "kernelspec": {
   "display_name": "Python 3 (ipykernel)",
   "language": "python",
   "name": "python3"
  },
  "language_info": {
   "codemirror_mode": {
    "name": "ipython",
    "version": 3
   },
   "file_extension": ".py",
   "mimetype": "text/x-python",
   "name": "python",
   "nbconvert_exporter": "python",
   "pygments_lexer": "ipython3",
   "version": "3.11.5"
  }
 },
 "nbformat": 4,
 "nbformat_minor": 5
}
