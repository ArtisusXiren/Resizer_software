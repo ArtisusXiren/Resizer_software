{
 "cells": [
  {
   "cell_type": "code",
   "execution_count": 1,
   "id": "521a3625-fb1b-4040-baa3-36422d238ad4",
   "metadata": {
    "tags": []
   },
   "outputs": [],
   "source": [
    "from flask import Flask, render_template, request, send_file,jsonify\n",
    "from flask_ngrok import run_with_ngrok\n",
    "import pandas as pd\n"
   ]
  },
  {
   "cell_type": "code",
   "execution_count": 2,
   "id": "958fe4a7-b6c3-452c-a4fa-417dea08f548",
   "metadata": {
    "tags": []
   },
   "outputs": [],
   "source": [
    "app=Flask(__name__)\n",
    "run_with_ngrok(app)\n",
    "@app.route(\"/\")\n",
    "def webpage():\n",
    "    return render_template(\"Index.html\")\n",
    "@app.route('/upload',methods=['POST'])\n",
    "def upload():\n",
    "    global number\n",
    "    global path_decided\n",
    "    global image_di\n",
    "    global products_data\n",
    "    number=request.form['number']\n",
    "    file= request.files['file']\n",
    "    directory=request.form['directory']\n",
    "    products_data=pd.read_excel(file)\n",
    "    image_di= directory\n",
    "    path_decided= directory\n",
    "    %run Resizer.ipynb\n",
    "    return \"Upload Complete\""
   ]
  },
  {
   "cell_type": "code",
   "execution_count": 6,
   "id": "b158f7b6-8b7c-4adc-9423-a2040f305573",
   "metadata": {
    "tags": []
   },
   "outputs": [
    {
     "name": "stdout",
     "output_type": "stream",
     "text": [
      "Requirement already satisfied: flask in c:\\users\\artisusxiren\\anaconda3\\lib\\site-packages (2.2.2)\n",
      "Requirement already satisfied: flask-ngrok in c:\\users\\artisusxiren\\anaconda3\\lib\\site-packages (0.0.25)\n",
      "Requirement already satisfied: Werkzeug>=2.2.2 in c:\\users\\artisusxiren\\anaconda3\\lib\\site-packages (from flask) (2.2.3)\n",
      "Requirement already satisfied: Jinja2>=3.0 in c:\\users\\artisusxiren\\anaconda3\\lib\\site-packages (from flask) (3.1.2)\n",
      "Requirement already satisfied: itsdangerous>=2.0 in c:\\users\\artisusxiren\\anaconda3\\lib\\site-packages (from flask) (2.0.1)\n",
      "Requirement already satisfied: click>=8.0 in c:\\users\\artisusxiren\\anaconda3\\lib\\site-packages (from flask) (8.0.4)\n",
      "Requirement already satisfied: requests in c:\\users\\artisusxiren\\anaconda3\\lib\\site-packages (from flask-ngrok) (2.31.0)\n",
      "Requirement already satisfied: colorama in c:\\users\\artisusxiren\\anaconda3\\lib\\site-packages (from click>=8.0->flask) (0.4.6)\n",
      "Requirement already satisfied: MarkupSafe>=2.0 in c:\\users\\artisusxiren\\anaconda3\\lib\\site-packages (from Jinja2>=3.0->flask) (2.1.1)\n",
      "Requirement already satisfied: charset-normalizer<4,>=2 in c:\\users\\artisusxiren\\anaconda3\\lib\\site-packages (from requests->flask-ngrok) (2.0.4)\n",
      "Requirement already satisfied: idna<4,>=2.5 in c:\\users\\artisusxiren\\anaconda3\\lib\\site-packages (from requests->flask-ngrok) (3.4)\n",
      "Requirement already satisfied: urllib3<3,>=1.21.1 in c:\\users\\artisusxiren\\anaconda3\\lib\\site-packages (from requests->flask-ngrok) (1.26.16)\n",
      "Requirement already satisfied: certifi>=2017.4.17 in c:\\users\\artisusxiren\\anaconda3\\lib\\site-packages (from requests->flask-ngrok) (2023.11.17)\n",
      "Note: you may need to restart the kernel to use updated packages.\n"
     ]
    }
   ],
   "source": [
    "pip install flask flask-ngrok"
   ]
  },
  {
   "cell_type": "code",
   "execution_count": 3,
   "id": "70b40bd0-68a8-4876-a231-60c26876a1e8",
   "metadata": {},
   "outputs": [
    {
     "ename": "TypeError",
     "evalue": "run_with_ngrok.<locals>.new_run() got an unexpected keyword argument 'host'",
     "output_type": "error",
     "traceback": [
      "\u001b[1;31m---------------------------------------------------------------------------\u001b[0m",
      "\u001b[1;31mTypeError\u001b[0m                                 Traceback (most recent call last)",
      "Cell \u001b[1;32mIn[3], line 1\u001b[0m\n\u001b[1;32m----> 1\u001b[0m app\u001b[38;5;241m.\u001b[39mrun(host\u001b[38;5;241m=\u001b[39m\u001b[38;5;124m'\u001b[39m\u001b[38;5;124m0.0.0.0\u001b[39m\u001b[38;5;124m'\u001b[39m, port\u001b[38;5;241m=\u001b[39m\u001b[38;5;241m5000\u001b[39m)\n",
      "\u001b[1;31mTypeError\u001b[0m: run_with_ngrok.<locals>.new_run() got an unexpected keyword argument 'host'"
     ]
    }
   ],
   "source": [
    "app.run(host='0.0.0.0', port=5000)"
   ]
  },
  {
   "cell_type": "code",
   "execution_count": null,
   "id": "74b7819e-c14e-413a-ae41-e9916b143803",
   "metadata": {},
   "outputs": [],
   "source": []
  }
 ],
 "metadata": {
  "kernelspec": {
   "display_name": "Python 3 (ipykernel)",
   "language": "python",
   "name": "python3"
  },
  "language_info": {
   "codemirror_mode": {
    "name": "ipython",
    "version": 3
   },
   "file_extension": ".py",
   "mimetype": "text/x-python",
   "name": "python",
   "nbconvert_exporter": "python",
   "pygments_lexer": "ipython3",
   "version": "3.11.5"
  }
 },
 "nbformat": 4,
 "nbformat_minor": 5
}
